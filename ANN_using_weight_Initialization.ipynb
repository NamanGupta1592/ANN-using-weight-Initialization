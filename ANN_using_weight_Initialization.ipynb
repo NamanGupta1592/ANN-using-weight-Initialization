{
  "nbformat": 4,
  "nbformat_minor": 0,
  "metadata": {
    "colab": {
      "provenance": []
    },
    "kernelspec": {
      "name": "python3",
      "display_name": "Python 3"
    },
    "language_info": {
      "name": "python"
    }
  },
  "cells": [
    {
      "cell_type": "code",
      "execution_count": null,
      "metadata": {
        "id": "8L8BG_atw2gV"
      },
      "outputs": [],
      "source": [
        "import numpy as np\n",
        "import matplotlib.pyplot as plt\n",
        "import pandas as pd\n",
        "import sklearn"
      ]
    },
    {
      "cell_type": "code",
      "source": [
        "df = pd.read_csv('/content/Churn_Modelling.csv')\n",
        "X=df.iloc[:,3:13]\n",
        "y=df.iloc[:,13]"
      ],
      "metadata": {
        "id": "lNaqga2wvrGy"
      },
      "execution_count": null,
      "outputs": []
    },
    {
      "cell_type": "code",
      "source": [
        "geography  = pd.get_dummies(X['Geography'],drop_first=True)\n",
        "gender = pd.get_dummies(X['Gender'],drop_first=True)"
      ],
      "metadata": {
        "id": "WzkaeTEGvw-t"
      },
      "execution_count": null,
      "outputs": []
    },
    {
      "cell_type": "code",
      "source": [
        "X=pd.concat([X,geography,gender],axis=1)\n",
        "X=X.drop(['Geography','Gender'],axis=1)"
      ],
      "metadata": {
        "id": "di3CR3JVv9hp"
      },
      "execution_count": null,
      "outputs": []
    },
    {
      "cell_type": "code",
      "source": [
        "from sklearn.model_selection import train_test_split\n",
        "X_train,X_test,y_train,y_test = train_test_split(X,y,test_size=0.2,random_state=0)"
      ],
      "metadata": {
        "id": "ZywFOtFDwGAY"
      },
      "execution_count": null,
      "outputs": []
    },
    {
      "cell_type": "code",
      "source": [
        "from sklearn.preprocessing import StandardScaler\n",
        "sc = StandardScaler()\n",
        "X_train = sc.fit_transform(X_train)\n",
        "X_test = sc.transform(X_test)"
      ],
      "metadata": {
        "id": "kCsglKqWwPrv"
      },
      "execution_count": null,
      "outputs": []
    },
    {
      "cell_type": "markdown",
      "source": [
        "Importing keras library and packages"
      ],
      "metadata": {
        "id": "04aNuDrwxayr"
      }
    },
    {
      "cell_type": "code",
      "source": [
        "import keras\n",
        "import tensorflow\n",
        "from keras.models import Sequential\n",
        "from keras.layers import Dense\n",
        "from keras.layers import LeakyReLU,PReLU,ELU\n",
        "from keras.layers import Dropout"
      ],
      "metadata": {
        "id": "7Usrca0ewbSh"
      },
      "execution_count": null,
      "outputs": []
    },
    {
      "cell_type": "code",
      "source": [],
      "metadata": {
        "id": "KOfuhlGOX19d"
      },
      "execution_count": null,
      "outputs": []
    },
    {
      "cell_type": "markdown",
      "source": [
        "Initializing ANN and adding the input layer and the hidden layers"
      ],
      "metadata": {
        "id": "-O4PIy42xRvx"
      }
    },
    {
      "cell_type": "code",
      "source": [
        "classifier = Sequential()\n",
        "classifier.add(Dense(units=6,kernel_initializer='he_uniform',activation='relu',input_dim=11))\n",
        "classifier.add(Dense(units=6,kernel_initializer='he_uniform',activation='relu'))\n",
        "classifier.add(Dense(units=1,kernel_initializer='glorot_uniform',activation='sigmoid'))"
      ],
      "metadata": {
        "id": "acWS1f6swhK6"
      },
      "execution_count": null,
      "outputs": []
    },
    {
      "cell_type": "code",
      "source": [
        "classifier.compile(optimizer='adam',loss='binary_crossentropy',metrics=['accuracy'])"
      ],
      "metadata": {
        "id": "ZI5a6lNsxhME"
      },
      "execution_count": null,
      "outputs": []
    },
    {
      "cell_type": "code",
      "source": [
        "model_history = classifier.fit(X_train,y_train,validation_split=0.33,batch_size=10,epochs=100)"
      ],
      "metadata": {
        "colab": {
          "base_uri": "https://localhost:8080/"
        },
        "id": "ITu9QYFux-BO",
        "outputId": "aaff6842-ba96-4be0-a0fd-c9e52b5f2f34"
      },
      "execution_count": null,
      "outputs": [
        {
          "output_type": "stream",
          "name": "stdout",
          "text": [
            "Epoch 1/100\n",
            "536/536 [==============================] - 9s 9ms/step - loss: 0.5423 - accuracy: 0.7897 - val_loss: 0.4916 - val_accuracy: 0.7952\n",
            "Epoch 2/100\n",
            "536/536 [==============================] - 2s 3ms/step - loss: 0.4745 - accuracy: 0.8000 - val_loss: 0.4628 - val_accuracy: 0.7982\n",
            "Epoch 3/100\n",
            "536/536 [==============================] - 3s 5ms/step - loss: 0.4501 - accuracy: 0.8041 - val_loss: 0.4493 - val_accuracy: 0.8027\n",
            "Epoch 4/100\n",
            "536/536 [==============================] - 3s 5ms/step - loss: 0.4365 - accuracy: 0.8113 - val_loss: 0.4425 - val_accuracy: 0.8069\n",
            "Epoch 5/100\n",
            "536/536 [==============================] - 3s 6ms/step - loss: 0.4290 - accuracy: 0.8149 - val_loss: 0.4389 - val_accuracy: 0.8118\n",
            "Epoch 6/100\n",
            "536/536 [==============================] - 3s 6ms/step - loss: 0.4246 - accuracy: 0.8194 - val_loss: 0.4365 - val_accuracy: 0.8080\n",
            "Epoch 7/100\n",
            "536/536 [==============================] - 3s 5ms/step - loss: 0.4203 - accuracy: 0.8216 - val_loss: 0.4331 - val_accuracy: 0.8092\n",
            "Epoch 8/100\n",
            "536/536 [==============================] - 2s 4ms/step - loss: 0.4176 - accuracy: 0.8229 - val_loss: 0.4313 - val_accuracy: 0.8107\n",
            "Epoch 9/100\n",
            "536/536 [==============================] - 3s 5ms/step - loss: 0.4150 - accuracy: 0.8257 - val_loss: 0.4299 - val_accuracy: 0.8145\n",
            "Epoch 10/100\n",
            "536/536 [==============================] - 3s 6ms/step - loss: 0.4129 - accuracy: 0.8270 - val_loss: 0.4282 - val_accuracy: 0.8167\n",
            "Epoch 11/100\n",
            "536/536 [==============================] - 4s 7ms/step - loss: 0.4109 - accuracy: 0.8280 - val_loss: 0.4277 - val_accuracy: 0.8148\n",
            "Epoch 12/100\n",
            "536/536 [==============================] - 4s 8ms/step - loss: 0.4086 - accuracy: 0.8300 - val_loss: 0.4246 - val_accuracy: 0.8179\n",
            "Epoch 13/100\n",
            "536/536 [==============================] - 2s 4ms/step - loss: 0.4069 - accuracy: 0.8302 - val_loss: 0.4226 - val_accuracy: 0.8164\n",
            "Epoch 14/100\n",
            "536/536 [==============================] - 1s 3ms/step - loss: 0.4049 - accuracy: 0.8321 - val_loss: 0.4220 - val_accuracy: 0.8152\n",
            "Epoch 15/100\n",
            "536/536 [==============================] - 2s 3ms/step - loss: 0.4031 - accuracy: 0.8322 - val_loss: 0.4195 - val_accuracy: 0.8190\n",
            "Epoch 16/100\n",
            "536/536 [==============================] - 1s 3ms/step - loss: 0.4017 - accuracy: 0.8326 - val_loss: 0.4185 - val_accuracy: 0.8217\n",
            "Epoch 17/100\n",
            "536/536 [==============================] - 1s 3ms/step - loss: 0.4004 - accuracy: 0.8328 - val_loss: 0.4175 - val_accuracy: 0.8205\n",
            "Epoch 18/100\n",
            "536/536 [==============================] - 2s 3ms/step - loss: 0.3989 - accuracy: 0.8306 - val_loss: 0.4169 - val_accuracy: 0.8175\n",
            "Epoch 19/100\n",
            "536/536 [==============================] - 4s 7ms/step - loss: 0.3981 - accuracy: 0.8322 - val_loss: 0.4153 - val_accuracy: 0.8198\n",
            "Epoch 20/100\n",
            "536/536 [==============================] - 5s 9ms/step - loss: 0.3966 - accuracy: 0.8349 - val_loss: 0.4144 - val_accuracy: 0.8247\n",
            "Epoch 21/100\n",
            "536/536 [==============================] - 4s 7ms/step - loss: 0.3950 - accuracy: 0.8306 - val_loss: 0.4123 - val_accuracy: 0.8228\n",
            "Epoch 22/100\n",
            "536/536 [==============================] - 4s 7ms/step - loss: 0.3928 - accuracy: 0.8332 - val_loss: 0.4102 - val_accuracy: 0.8247\n",
            "Epoch 23/100\n",
            "536/536 [==============================] - 4s 8ms/step - loss: 0.3911 - accuracy: 0.8315 - val_loss: 0.4093 - val_accuracy: 0.8209\n",
            "Epoch 24/100\n",
            "536/536 [==============================] - 3s 5ms/step - loss: 0.3900 - accuracy: 0.8322 - val_loss: 0.4065 - val_accuracy: 0.8220\n",
            "Epoch 25/100\n",
            "536/536 [==============================] - 1s 3ms/step - loss: 0.3878 - accuracy: 0.8336 - val_loss: 0.4048 - val_accuracy: 0.8251\n",
            "Epoch 26/100\n",
            "536/536 [==============================] - 2s 3ms/step - loss: 0.3858 - accuracy: 0.8336 - val_loss: 0.4025 - val_accuracy: 0.8239\n",
            "Epoch 27/100\n",
            "536/536 [==============================] - 2s 3ms/step - loss: 0.3834 - accuracy: 0.8352 - val_loss: 0.4011 - val_accuracy: 0.8254\n",
            "Epoch 28/100\n",
            "536/536 [==============================] - 2s 3ms/step - loss: 0.3807 - accuracy: 0.8336 - val_loss: 0.3968 - val_accuracy: 0.8300\n",
            "Epoch 29/100\n",
            "536/536 [==============================] - 3s 5ms/step - loss: 0.3776 - accuracy: 0.8375 - val_loss: 0.3931 - val_accuracy: 0.8342\n",
            "Epoch 30/100\n",
            "536/536 [==============================] - 2s 4ms/step - loss: 0.3745 - accuracy: 0.8399 - val_loss: 0.3894 - val_accuracy: 0.8342\n",
            "Epoch 31/100\n",
            "536/536 [==============================] - 2s 3ms/step - loss: 0.3711 - accuracy: 0.8431 - val_loss: 0.3873 - val_accuracy: 0.8311\n",
            "Epoch 32/100\n",
            "536/536 [==============================] - 2s 3ms/step - loss: 0.3684 - accuracy: 0.8461 - val_loss: 0.3833 - val_accuracy: 0.8372\n",
            "Epoch 33/100\n",
            "536/536 [==============================] - 2s 3ms/step - loss: 0.3651 - accuracy: 0.8502 - val_loss: 0.3816 - val_accuracy: 0.8387\n",
            "Epoch 34/100\n",
            "536/536 [==============================] - 2s 3ms/step - loss: 0.3629 - accuracy: 0.8509 - val_loss: 0.3789 - val_accuracy: 0.8417\n",
            "Epoch 35/100\n",
            "536/536 [==============================] - 2s 3ms/step - loss: 0.3591 - accuracy: 0.8533 - val_loss: 0.3779 - val_accuracy: 0.8451\n",
            "Epoch 36/100\n",
            "536/536 [==============================] - 2s 4ms/step - loss: 0.3572 - accuracy: 0.8518 - val_loss: 0.3751 - val_accuracy: 0.8485\n",
            "Epoch 37/100\n",
            "536/536 [==============================] - 2s 5ms/step - loss: 0.3546 - accuracy: 0.8545 - val_loss: 0.3737 - val_accuracy: 0.8455\n",
            "Epoch 38/100\n",
            "536/536 [==============================] - 2s 3ms/step - loss: 0.3521 - accuracy: 0.8545 - val_loss: 0.3725 - val_accuracy: 0.8478\n",
            "Epoch 39/100\n",
            "536/536 [==============================] - 2s 3ms/step - loss: 0.3502 - accuracy: 0.8565 - val_loss: 0.3716 - val_accuracy: 0.8470\n",
            "Epoch 40/100\n",
            "536/536 [==============================] - 2s 3ms/step - loss: 0.3489 - accuracy: 0.8565 - val_loss: 0.3698 - val_accuracy: 0.8489\n",
            "Epoch 41/100\n",
            "536/536 [==============================] - 2s 3ms/step - loss: 0.3474 - accuracy: 0.8565 - val_loss: 0.3694 - val_accuracy: 0.8482\n",
            "Epoch 42/100\n",
            "536/536 [==============================] - 2s 3ms/step - loss: 0.3463 - accuracy: 0.8600 - val_loss: 0.3681 - val_accuracy: 0.8501\n",
            "Epoch 43/100\n",
            "536/536 [==============================] - 1s 3ms/step - loss: 0.3453 - accuracy: 0.8615 - val_loss: 0.3687 - val_accuracy: 0.8516\n",
            "Epoch 44/100\n",
            "536/536 [==============================] - 2s 4ms/step - loss: 0.3443 - accuracy: 0.8569 - val_loss: 0.3689 - val_accuracy: 0.8501\n",
            "Epoch 45/100\n",
            "536/536 [==============================] - 2s 4ms/step - loss: 0.3429 - accuracy: 0.8617 - val_loss: 0.3678 - val_accuracy: 0.8470\n",
            "Epoch 46/100\n",
            "536/536 [==============================] - 2s 4ms/step - loss: 0.3418 - accuracy: 0.8604 - val_loss: 0.3671 - val_accuracy: 0.8478\n",
            "Epoch 47/100\n",
            "536/536 [==============================] - 2s 4ms/step - loss: 0.3417 - accuracy: 0.8595 - val_loss: 0.3668 - val_accuracy: 0.8493\n",
            "Epoch 48/100\n",
            "536/536 [==============================] - 1s 3ms/step - loss: 0.3399 - accuracy: 0.8604 - val_loss: 0.3684 - val_accuracy: 0.8482\n",
            "Epoch 49/100\n",
            "536/536 [==============================] - 2s 3ms/step - loss: 0.3400 - accuracy: 0.8593 - val_loss: 0.3660 - val_accuracy: 0.8504\n",
            "Epoch 50/100\n",
            "536/536 [==============================] - 2s 3ms/step - loss: 0.3388 - accuracy: 0.8608 - val_loss: 0.3648 - val_accuracy: 0.8527\n",
            "Epoch 51/100\n",
            "536/536 [==============================] - 2s 4ms/step - loss: 0.3378 - accuracy: 0.8593 - val_loss: 0.3641 - val_accuracy: 0.8501\n",
            "Epoch 52/100\n",
            "536/536 [==============================] - 3s 6ms/step - loss: 0.3382 - accuracy: 0.8608 - val_loss: 0.3646 - val_accuracy: 0.8527\n",
            "Epoch 53/100\n",
            "536/536 [==============================] - 2s 3ms/step - loss: 0.3369 - accuracy: 0.8602 - val_loss: 0.3639 - val_accuracy: 0.8519\n",
            "Epoch 54/100\n",
            "536/536 [==============================] - 2s 3ms/step - loss: 0.3376 - accuracy: 0.8600 - val_loss: 0.3633 - val_accuracy: 0.8508\n",
            "Epoch 55/100\n",
            "536/536 [==============================] - 1s 3ms/step - loss: 0.3372 - accuracy: 0.8623 - val_loss: 0.3633 - val_accuracy: 0.8508\n",
            "Epoch 56/100\n",
            "536/536 [==============================] - 2s 3ms/step - loss: 0.3369 - accuracy: 0.8600 - val_loss: 0.3624 - val_accuracy: 0.8508\n",
            "Epoch 57/100\n",
            "536/536 [==============================] - 2s 3ms/step - loss: 0.3362 - accuracy: 0.8597 - val_loss: 0.3644 - val_accuracy: 0.8508\n",
            "Epoch 58/100\n",
            "536/536 [==============================] - 2s 5ms/step - loss: 0.3358 - accuracy: 0.8595 - val_loss: 0.3628 - val_accuracy: 0.8501\n",
            "Epoch 59/100\n",
            "536/536 [==============================] - 2s 5ms/step - loss: 0.3355 - accuracy: 0.8627 - val_loss: 0.3622 - val_accuracy: 0.8512\n",
            "Epoch 60/100\n",
            "536/536 [==============================] - 1s 3ms/step - loss: 0.3352 - accuracy: 0.8612 - val_loss: 0.3620 - val_accuracy: 0.8538\n",
            "Epoch 61/100\n",
            "536/536 [==============================] - 2s 3ms/step - loss: 0.3352 - accuracy: 0.8602 - val_loss: 0.3608 - val_accuracy: 0.8523\n",
            "Epoch 62/100\n",
            "536/536 [==============================] - 2s 3ms/step - loss: 0.3350 - accuracy: 0.8632 - val_loss: 0.3629 - val_accuracy: 0.8512\n",
            "Epoch 63/100\n",
            "536/536 [==============================] - 2s 3ms/step - loss: 0.3346 - accuracy: 0.8649 - val_loss: 0.3600 - val_accuracy: 0.8535\n",
            "Epoch 64/100\n",
            "536/536 [==============================] - 2s 4ms/step - loss: 0.3338 - accuracy: 0.8615 - val_loss: 0.3606 - val_accuracy: 0.8535\n",
            "Epoch 65/100\n",
            "536/536 [==============================] - 3s 5ms/step - loss: 0.3327 - accuracy: 0.8634 - val_loss: 0.3606 - val_accuracy: 0.8546\n",
            "Epoch 66/100\n",
            "536/536 [==============================] - 3s 6ms/step - loss: 0.3333 - accuracy: 0.8636 - val_loss: 0.3616 - val_accuracy: 0.8531\n",
            "Epoch 67/100\n",
            "536/536 [==============================] - 2s 3ms/step - loss: 0.3331 - accuracy: 0.8623 - val_loss: 0.3594 - val_accuracy: 0.8538\n",
            "Epoch 68/100\n",
            "536/536 [==============================] - 1s 3ms/step - loss: 0.3325 - accuracy: 0.8615 - val_loss: 0.3591 - val_accuracy: 0.8512\n",
            "Epoch 69/100\n",
            "536/536 [==============================] - 2s 4ms/step - loss: 0.3321 - accuracy: 0.8623 - val_loss: 0.3590 - val_accuracy: 0.8531\n",
            "Epoch 70/100\n",
            "536/536 [==============================] - 2s 3ms/step - loss: 0.3321 - accuracy: 0.8614 - val_loss: 0.3588 - val_accuracy: 0.8527\n",
            "Epoch 71/100\n",
            "536/536 [==============================] - 2s 4ms/step - loss: 0.3312 - accuracy: 0.8656 - val_loss: 0.3601 - val_accuracy: 0.8550\n",
            "Epoch 72/100\n",
            "536/536 [==============================] - 2s 4ms/step - loss: 0.3307 - accuracy: 0.8623 - val_loss: 0.3585 - val_accuracy: 0.8527\n",
            "Epoch 73/100\n",
            "536/536 [==============================] - 3s 6ms/step - loss: 0.3310 - accuracy: 0.8602 - val_loss: 0.3600 - val_accuracy: 0.8554\n",
            "Epoch 74/100\n",
            "536/536 [==============================] - 2s 3ms/step - loss: 0.3308 - accuracy: 0.8600 - val_loss: 0.3598 - val_accuracy: 0.8538\n",
            "Epoch 75/100\n",
            "536/536 [==============================] - 2s 4ms/step - loss: 0.3303 - accuracy: 0.8636 - val_loss: 0.3600 - val_accuracy: 0.8561\n",
            "Epoch 76/100\n",
            "536/536 [==============================] - 2s 4ms/step - loss: 0.3306 - accuracy: 0.8621 - val_loss: 0.3586 - val_accuracy: 0.8557\n",
            "Epoch 77/100\n",
            "536/536 [==============================] - 2s 3ms/step - loss: 0.3302 - accuracy: 0.8623 - val_loss: 0.3585 - val_accuracy: 0.8580\n",
            "Epoch 78/100\n",
            "536/536 [==============================] - 2s 3ms/step - loss: 0.3298 - accuracy: 0.8627 - val_loss: 0.3570 - val_accuracy: 0.8546\n",
            "Epoch 79/100\n",
            "536/536 [==============================] - 2s 5ms/step - loss: 0.3288 - accuracy: 0.8642 - val_loss: 0.3602 - val_accuracy: 0.8531\n",
            "Epoch 80/100\n",
            "536/536 [==============================] - 2s 4ms/step - loss: 0.3299 - accuracy: 0.8604 - val_loss: 0.3600 - val_accuracy: 0.8546\n",
            "Epoch 81/100\n",
            "536/536 [==============================] - 2s 3ms/step - loss: 0.3297 - accuracy: 0.8625 - val_loss: 0.3572 - val_accuracy: 0.8554\n",
            "Epoch 82/100\n",
            "536/536 [==============================] - 2s 3ms/step - loss: 0.3291 - accuracy: 0.8636 - val_loss: 0.3572 - val_accuracy: 0.8569\n",
            "Epoch 83/100\n",
            "536/536 [==============================] - 2s 3ms/step - loss: 0.3294 - accuracy: 0.8628 - val_loss: 0.3574 - val_accuracy: 0.8573\n",
            "Epoch 84/100\n",
            "536/536 [==============================] - 2s 3ms/step - loss: 0.3283 - accuracy: 0.8636 - val_loss: 0.3591 - val_accuracy: 0.8542\n",
            "Epoch 85/100\n",
            "536/536 [==============================] - 2s 3ms/step - loss: 0.3291 - accuracy: 0.8614 - val_loss: 0.3571 - val_accuracy: 0.8565\n",
            "Epoch 86/100\n",
            "536/536 [==============================] - 2s 4ms/step - loss: 0.3286 - accuracy: 0.8628 - val_loss: 0.3578 - val_accuracy: 0.8546\n",
            "Epoch 87/100\n",
            "536/536 [==============================] - 2s 5ms/step - loss: 0.3292 - accuracy: 0.8630 - val_loss: 0.3579 - val_accuracy: 0.8573\n",
            "Epoch 88/100\n",
            "536/536 [==============================] - 2s 3ms/step - loss: 0.3284 - accuracy: 0.8636 - val_loss: 0.3566 - val_accuracy: 0.8554\n",
            "Epoch 89/100\n",
            "536/536 [==============================] - 2s 3ms/step - loss: 0.3286 - accuracy: 0.8608 - val_loss: 0.3590 - val_accuracy: 0.8550\n",
            "Epoch 90/100\n",
            "536/536 [==============================] - 2s 3ms/step - loss: 0.3276 - accuracy: 0.8634 - val_loss: 0.3589 - val_accuracy: 0.8561\n",
            "Epoch 91/100\n",
            "536/536 [==============================] - 2s 3ms/step - loss: 0.3287 - accuracy: 0.8625 - val_loss: 0.3574 - val_accuracy: 0.8576\n",
            "Epoch 92/100\n",
            "536/536 [==============================] - 2s 4ms/step - loss: 0.3275 - accuracy: 0.8621 - val_loss: 0.3589 - val_accuracy: 0.8550\n",
            "Epoch 93/100\n",
            "536/536 [==============================] - 2s 4ms/step - loss: 0.3276 - accuracy: 0.8617 - val_loss: 0.3583 - val_accuracy: 0.8535\n",
            "Epoch 94/100\n",
            "536/536 [==============================] - 3s 5ms/step - loss: 0.3279 - accuracy: 0.8630 - val_loss: 0.3583 - val_accuracy: 0.8550\n",
            "Epoch 95/100\n",
            "536/536 [==============================] - 2s 4ms/step - loss: 0.3280 - accuracy: 0.8625 - val_loss: 0.3568 - val_accuracy: 0.8573\n",
            "Epoch 96/100\n",
            "536/536 [==============================] - 2s 3ms/step - loss: 0.3278 - accuracy: 0.8634 - val_loss: 0.3570 - val_accuracy: 0.8580\n",
            "Epoch 97/100\n",
            "536/536 [==============================] - 2s 4ms/step - loss: 0.3271 - accuracy: 0.8638 - val_loss: 0.3567 - val_accuracy: 0.8580\n",
            "Epoch 98/100\n",
            "536/536 [==============================] - 2s 3ms/step - loss: 0.3272 - accuracy: 0.8615 - val_loss: 0.3561 - val_accuracy: 0.8569\n",
            "Epoch 99/100\n",
            "536/536 [==============================] - 2s 3ms/step - loss: 0.3268 - accuracy: 0.8630 - val_loss: 0.3563 - val_accuracy: 0.8573\n",
            "Epoch 100/100\n",
            "536/536 [==============================] - 2s 4ms/step - loss: 0.3266 - accuracy: 0.8614 - val_loss: 0.3553 - val_accuracy: 0.8573\n"
          ]
        }
      ]
    },
    {
      "cell_type": "code",
      "source": [
        "print(model_history.history.keys())"
      ],
      "metadata": {
        "colab": {
          "base_uri": "https://localhost:8080/"
        },
        "id": "nvWiyKZgyV9Y",
        "outputId": "811d531f-0036-4ea0-88c6-7aea5d5d9b2d"
      },
      "execution_count": null,
      "outputs": [
        {
          "output_type": "stream",
          "name": "stdout",
          "text": [
            "dict_keys(['loss', 'accuracy', 'val_loss', 'val_accuracy'])\n"
          ]
        }
      ]
    },
    {
      "cell_type": "code",
      "source": [
        "plt.plot(model_history.history['loss'])\n",
        "plt.plot(model_history.history['val_loss'])\n",
        "plt.title('model loss')\n",
        "plt.ylabel('loss')\n",
        "plt.xlabel('epoch')\n",
        "plt.legend(['train','test'],loc='upper left')\n",
        "plt.show()"
      ],
      "metadata": {
        "colab": {
          "base_uri": "https://localhost:8080/",
          "height": 472
        },
        "id": "HOInonukz3Dp",
        "outputId": "3c20f556-4917-4198-b407-dc8e23dd39c2"
      },
      "execution_count": null,
      "outputs": [
        {
          "output_type": "display_data",
          "data": {
            "text/plain": [
              "<Figure size 640x480 with 1 Axes>"
            ],
            "image/png": "[encoded data removed]"
          },
          "metadata": {}
        }
      ]
    },
    {
      "cell_type": "markdown",
      "source": [
        "Predicting the test set results"
      ],
      "metadata": {
        "id": "7_U40mvnzlQ1"
      }
    },
    {
      "cell_type": "code",
      "source": [
        "y_pred = classifier.predict(X_test)\n",
        "y_pred = (y_pred > 0.5)"
      ],
      "metadata": {
        "colab": {
          "base_uri": "https://localhost:8080/"
        },
        "id": "6w4YNOCDyl-q",
        "outputId": "9070b658-f5e3-4a94-e230-643ef5564eb0"
      },
      "execution_count": null,
      "outputs": [
        {
          "output_type": "stream",
          "name": "stdout",
          "text": [
            "63/63 [==============================] - 0s 3ms/step\n"
          ]
        }
      ]
    },
    {
      "cell_type": "code",
      "source": [
        "from sklearn.metrics import confusion_matrix\n",
        "cm = confusion_matrix(y_test,y_pred)\n",
        "cm"
      ],
      "metadata": {
        "colab": {
          "base_uri": "https://localhost:8080/"
        },
        "id": "HpzHHoVezquQ",
        "outputId": "8a4d7e59-1268-41ab-cf01-65d493e15298"
      },
      "execution_count": null,
      "outputs": [
        {
          "output_type": "execute_result",
          "data": {
            "text/plain": [
              "array([[1525,   70],\n",
              "       [ 208,  197]])"
            ]
          },
          "metadata": {},
          "execution_count": 21
        }
      ]
    },
    {
      "cell_type": "code",
      "source": [
        "from sklearn.metrics import accuracy_score\n",
        "score = accuracy_score(y_pred,y_test)\n",
        "score"
      ],
      "metadata": {
        "colab": {
          "base_uri": "https://localhost:8080/"
        },
        "id": "Ra_m_1Owzsnd",
        "outputId": "f251babd-10e7-444e-ef43-d4346f7d21a2"
      },
      "execution_count": null,
      "outputs": [
        {
          "output_type": "execute_result",
          "data": {
            "text/plain": [
              "0.861"
            ]
          },
          "metadata": {},
          "execution_count": 22
        }
      ]
    },
    {
      "cell_type": "code",
      "source": [],
      "metadata": {
        "id": "_ElCU7WXz1aB"
      },
      "execution_count": null,
      "outputs": []
    }
  ]
}